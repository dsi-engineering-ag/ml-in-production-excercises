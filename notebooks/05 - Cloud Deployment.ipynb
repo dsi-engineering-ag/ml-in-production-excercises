{
 "cells": [
  {
   "cell_type": "markdown",
   "id": "golden-vegetation",
   "metadata": {},
   "source": [
    "# Excercise 5: Deploy our model to the Cloud\n",
    "\n"
   ]
  },
  {
   "cell_type": "markdown",
   "id": "opposed-yemen",
   "metadata": {},
   "source": [
    "## Configure gcloud and kukbectl\n",
    "\n",
    "We now authenticate against our cloud cluster. Open a Jupyter Terminal and start authenticating:\n",
    "\n",
    "`gcloud init --console-only`\n",
    "\n",
    "Confirm that you want to login and copy the URL to your browser (**using right-click | Copy**). Loging using your google account, confirm permissions and copy the acccess token (**using right-click | Paste**).\n",
    "\n",
    "If asked select project **academy-300812**\n",
    "\n",
    "\n"
   ]
  },
  {
   "cell_type": "markdown",
   "id": "c503fdcc",
   "metadata": {},
   "source": [
    "## Check Connection\n",
    "\n",
    "To connect to the cluster execute this:\n",
    "\n",
    "`gcloud container clusters get-credentials ml-in-production --zone europe-west3-c --project academy-300812`  \n",
    "\n",
    "After executing this you should be able to see our cluster nodes:\n",
    "\n",
    "`kubectl get nodes`\n",
    "\n",
    "should output something like\n",
    "\n",
    "```\n",
    "NAME                                              STATUS   ROLES    AGE   VERSION\n",
    "gke-ml-in-production-default-pool-2167de87-40d0   Ready    <none>   22h   v1.18.16-gke.2100\n",
    "```\n",
    "\n"
   ]
  },
  {
   "cell_type": "markdown",
   "id": "d521089f",
   "metadata": {},
   "source": [
    "## Prepare deployment\n",
    "\n",
    "Create a namespace for you: `kubectl create namespace <yourname>`\n",
    "\n",
    "And configure it as the default namespace :\n",
    "`kubectl config set-context $(kubectl config current-context) --namespace=<yourname>`\n",
    "\n"
   ]
  },
  {
   "cell_type": "markdown",
   "id": "302d0ca5",
   "metadata": {},
   "source": [
    "## Deploy application\n",
    "\n",
    "Now we are able to deploy your sustaino service. Configuration YAMLs are provided in the `pipeline` folder.\n",
    "\n",
    "1. Have a look at frontend.yml and eligibility-serivce.yml\n",
    "2. change to the work directory `cd work`\n",
    "3. Apply the configuration to the cluster: `kubectl apply -f pipeline`\n",
    "4. Wait for alle PODs to be deployed: `kubectl get pods`\n",
    "   \n",
    "If all pods are in the state _running_ our application was successfully deployed.\n",
    "\n",
    "\n",
    "\n"
   ]
  },
  {
   "cell_type": "markdown",
   "id": "3c146862",
   "metadata": {},
   "source": [
    "## Access Application\n",
    "\n",
    "To access the application we need the IP address of the provisioned load balancer. \n",
    "\n",
    "You get this IP by executing `kubectl get ingress`\n",
    "\n",
    "Copy the IP address and open it in a browser. It can take up to 10 minutes for the load balancer to configure correctly. So if you see a 404 or 502 error page, just wait a little bit."
   ]
  },
  {
   "cell_type": "markdown",
   "id": "a9b2c376",
   "metadata": {},
   "source": [
    "## Execute Pipeline\n",
    "\n",
    "A Cloud Build Pipeline is configured in the file `cloudbuild.yaml`. It executes a training script at `pipeline/train_model.py` and builds a Docker image in the cloud.\n",
    "\n",
    "1. Read through `pipeline/train_model.py` most of it should be very similar.\n",
    "2. Replace the placeholder `<yourname>` in `cloudbuild.yaml`.\n",
    "3. Build our model in the cloud: execute `gcloud builds submit`"
   ]
  },
  {
   "cell_type": "markdown",
   "id": "9bdb79e0",
   "metadata": {},
   "source": [
    "## Configure our ML service\n",
    "\n",
    "After our cloud build ran successfully, we have a model packaged in a docker image stored in the cloud. To deploy it reference your image in `pipeline/eligibility-service.yml`\n",
    "\n",
    "Update `image: fluescher/sustaino-dummy-service` to `image: gcr.io/academy-300812/<yourname>/eligibility-service:latest`\n",
    "\n",
    "and reapply the files again `kubectl apply -f pipeline`\n",
    "\n",
    "Test our sustaino frontend. Our model should be used now.\n"
   ]
  }
 ],
 "metadata": {
  "kernelspec": {
   "display_name": "Python 3 (ipykernel)",
   "language": "python",
   "name": "python3"
  },
  "language_info": {
   "codemirror_mode": {
    "name": "ipython",
    "version": 3
   },
   "file_extension": ".py",
   "mimetype": "text/x-python",
   "name": "python",
   "nbconvert_exporter": "python",
   "pygments_lexer": "ipython3",
   "version": "3.7.12"
  }
 },
 "nbformat": 4,
 "nbformat_minor": 5
}
