{
 "cells": [
  {
   "cell_type": "markdown",
   "id": "50e497a5",
   "metadata": {},
   "source": [
    "# Excercise 07: Fault Tolerance\n",
    "\n"
   ]
  },
  {
   "cell_type": "markdown",
   "id": "19f2d71a",
   "metadata": {},
   "source": [
    "## Combiner"
   ]
  },
  {
   "cell_type": "markdown",
   "id": "a293271f",
   "metadata": {},
   "source": [
    "To combine the results from multiple models, you can use the Seldon concept of combiners. Combiners aggregate the result of child models to a single response (check https://docs.seldon.io/projects/seldon-core/en/v1.1.0/python/python_component.html#combiners)\n",
    "\n",
    "You find our combiner in the folder `services/support/seldon-combiner`. Study its source code. When does it return 1?\n",
    "\n",
    "Create a new file in the folder pipelines named `combiners-seldon-model.yml`:\n",
    "\n",
    "```yaml\n",
    "apiVersion: machinelearning.seldon.io/v1alpha2\n",
    "kind: SeldonDeployment\n",
    "metadata:\n",
    "  name: <yourname>-model\n",
    "spec:\n",
    "  name: <yourname>-model-deployment\n",
    "  predictors:\n",
    "  - componentSpecs:\n",
    "    - spec:\n",
    "        containers:\n",
    "        - name: dummy-classifier\n",
    "          image: fluescher/sustaino-dummy-service\n",
    "        - name: real-classifier\n",
    "          image: gcr.io/academy-300812/<yourname>/eligibility-service:latest\n",
    "        - name: combiner\n",
    "          image: fluescher/seldon-combiner\n",
    "    graph:\n",
    "      name: combiner\n",
    "      type: COMBINER\n",
    "      endpoint:\n",
    "        type: REST\n",
    "      children:\n",
    "      - children: []\n",
    "        name: dummy-classifier\n",
    "        type: MODEL\n",
    "        endpoint:\n",
    "          type: REST\n",
    "      - children: []\n",
    "        name: real-classifier\n",
    "        type: MODEL\n",
    "        endpoint:\n",
    "          type: REST\n",
    "    name: eligibility\n",
    "    labels:\n",
    "      version: v1\n",
    "    replicas: 1\n",
    "\n",
    "```\n",
    "\n",
    "Apply this file \n",
    "`kubectl apply -f combiners-seldon-model.yml`\n",
    "and wait for all pods to be deployed:\n",
    "`kubectl get pods`\n"
   ]
  },
  {
   "cell_type": "markdown",
   "id": "33a8c204",
   "metadata": {},
   "source": [
    "Try send different values. Can you produce both results 1 and 0?\n",
    "\n"
   ]
  },
  {
   "cell_type": "code",
   "execution_count": 4,
   "id": "d869a1cc",
   "metadata": {},
   "outputs": [
    {
     "name": "stdout",
     "output_type": "stream",
     "text": [
      "/bin/bash: yourname: No such file or directory\n"
     ]
    }
   ],
   "source": [
    "!wget -O- mlproduction.dsiag.ch/seldon/<yourname>/<yourname>-model/api/v1.0/predictions --post-data '{\"data\": { \"ndarray\": [[25000, 189625]]}}' --header='Content-Type:application/json'"
   ]
  },
  {
   "cell_type": "markdown",
   "id": "7cdcbde4",
   "metadata": {},
   "source": [
    "Check the logs of the container:\n",
    "    \n",
    "You can check the logs of a container using `kubectl logs`.\n",
    "\n",
    "To do that you need to copy the name of the pod: `kubectl get pods`\n",
    "    \n",
    "Execute `kubectl logs <podname> <containername>`\n",
    "\n",
    "eg. `kubectl logs florian-model-eligibility-0-dummy-classifier-post-process-647md7 real-classifier"
   ]
  },
  {
   "cell_type": "markdown",
   "id": "3e29ef2d",
   "metadata": {},
   "source": [
    "## Post Processor"
   ]
  },
  {
   "cell_type": "markdown",
   "id": "75b7f53c",
   "metadata": {},
   "source": [
    "Before you start with this exercise remove the preview deployment: `kubectl delete -f combiners-seldon-model.yml`\n",
    "\n",
    "Sometimes you don't want to output your model result directly. You can use a Post Processor to do that.\n",
    "\n",
    "We use a sample Post Processor who does the opposite of the dummy-service: it marks all requests as not eligible. You can have a look at it in `services/support/seldon-postprocess`\n",
    "\n",
    "\n",
    "Create a new file in the folder pipelines named postprocessor-seldon-model.yml:\n",
    "\n",
    "```yaml\n",
    "apiVersion: machinelearning.seldon.io/v1alpha2\n",
    "kind: SeldonDeployment\n",
    "metadata:\n",
    "  name: <yourname>-model\n",
    "spec:\n",
    "  name: <yourname>-model-deployment\n",
    "  predictors:\n",
    "  - componentSpecs:\n",
    "    - spec:\n",
    "        containers:\n",
    "        - name: dummy-classifier\n",
    "          image: fluescher/sustaino-dummy-service\n",
    "        - name: post-process\n",
    "          image: fluescher/seldon-postprocess\n",
    "    graph:\n",
    "      name: dummy-classifier\n",
    "      type: MODEL\n",
    "      endpoint:\n",
    "        type: REST\n",
    "      children:\n",
    "      - children: []\n",
    "        name: post-process\n",
    "        type: MODEL\n",
    "        endpoint:\n",
    "          type: REST\n",
    "    name: eligibility\n",
    "    labels:\n",
    "      version: v1\n",
    "    replicas: 1\n",
    "\n",
    "```\n",
    "\n",
    "Apply this file using `kubectl apply -f postprocessor-seldon-model.yml` and wait for all pods to be deployed. \n",
    "\n",
    "Send some Requests to the backend:\n",
    "\n"
   ]
  },
  {
   "cell_type": "code",
   "execution_count": 2,
   "id": "e21b40e7",
   "metadata": {},
   "outputs": [
    {
     "name": "stdout",
     "output_type": "stream",
     "text": [
      "/bin/bash: yourname: No such file or directory\n"
     ]
    }
   ],
   "source": [
    "!wget -O- mlproduction.dsiag.ch/seldon/<yourname>/<yourname>-model/api/v1.0/predictions --post-data '{\"data\": { \"ndarray\": [[25000, 189625]]}}' --header='Content-Type:application/json'"
   ]
  },
  {
   "cell_type": "markdown",
   "id": "78eeecc1",
   "metadata": {},
   "source": [
    "Check the logs of both containers."
   ]
  }
 ],
 "metadata": {
  "kernelspec": {
   "display_name": "Python 3 (ipykernel)",
   "language": "python",
   "name": "python3"
  },
  "language_info": {
   "codemirror_mode": {
    "name": "ipython",
    "version": 3
   },
   "file_extension": ".py",
   "mimetype": "text/x-python",
   "name": "python",
   "nbconvert_exporter": "python",
   "pygments_lexer": "ipython3",
   "version": "3.7.12"
  }
 },
 "nbformat": 4,
 "nbformat_minor": 5
}
